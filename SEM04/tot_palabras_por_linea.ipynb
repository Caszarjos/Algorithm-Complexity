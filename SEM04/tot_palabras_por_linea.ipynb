{
 "cells": [
  {
   "attachments": {},
   "cell_type": "markdown",
   "metadata": {},
   "source": [
    "## Escriba un algoritmo en Python que implemente una funcion recursiva llamada tot_palabras_por_linea, que reciba por parámetro un texto txt que puede contener n lineas, y retorne el numero de palabras por linea en dicho texto."
   ]
  },
  {
   "cell_type": "code",
   "execution_count": 1,
   "metadata": {},
   "outputs": [
    {
     "name": "stdout",
     "output_type": "stream",
     "text": [
      "[8, 10, 9]\n"
     ]
    }
   ],
   "source": [
    "def tot_palabras_por_linea(texto):\n",
    "    if texto == \"\": #Caso Base\n",
    "        return []\n",
    "    \n",
    "    lineas=texto.find(\"\\n\") #Verifica que existe algun \"\\n\" siguiente\n",
    "    if lineas == -1: #Si no existiese entonces retorna el numero de palabras \n",
    "        return [len(texto.split())]\n",
    "    \n",
    "    lineaIzq = texto[:lineas] #Obtenemos las palabras antes del \"\\n\"\n",
    "    lineaDer = texto[lineas+1:] #Obtenemos las palarbas despues del \"\\n\"\n",
    "    \n",
    "    return [len(lineaIzq.split())] + tot_palabras_por_linea(lineaDer) # Llamada recursiva \n",
    "    \n",
    "texto = \"Lorem ipsum dolor sit amet, consectetur adipiscing elit.\\n Nam arcu arcu, euismod mollis rhoncus quis, egestas at leo.\\n Maecenas luctus neque nulla, vel imperdiet lacus ultrices vel.\"\n",
    "print(tot_palabras_por_linea(texto))"
   ]
  }
 ],
 "metadata": {
  "kernelspec": {
   "display_name": "Python 3",
   "language": "python",
   "name": "python3"
  },
  "language_info": {
   "codemirror_mode": {
    "name": "ipython",
    "version": 3
   },
   "file_extension": ".py",
   "mimetype": "text/x-python",
   "name": "python",
   "nbconvert_exporter": "python",
   "pygments_lexer": "ipython3",
   "version": "3.11.3"
  },
  "orig_nbformat": 4
 },
 "nbformat": 4,
 "nbformat_minor": 2
}
