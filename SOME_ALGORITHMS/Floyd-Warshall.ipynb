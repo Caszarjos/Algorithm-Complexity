{
 "cells": [
  {
   "cell_type": "code",
   "execution_count": 1,
   "metadata": {},
   "outputs": [
    {
     "name": "stdout",
     "output_type": "stream",
     "text": [
      "0  3  7  5   \n",
      "2  0  6  4   \n",
      "3  1  0  5   \n",
      "5  3  2  0   \n"
     ]
    }
   ],
   "source": [
    "# Floyd Warshall Algorithm in python\n",
    "\n",
    "\n",
    "# The number of vertices\n",
    "nV = 4\n",
    "\n",
    "INF = 999\n",
    "\n",
    "\n",
    "# Algorithm implementation\n",
    "def floyd_warshall(G):\n",
    "    distance = list(map(lambda i: list(map(lambda j: j, i)), G))\n",
    "\n",
    "    # Adding vertices individually\n",
    "    for k in range(nV):\n",
    "        for i in range(nV):\n",
    "            for j in range(nV):\n",
    "                distance[i][j] = min(distance[i][j], distance[i][k] + distance[k][j])\n",
    "    print_solution(distance)\n",
    "\n",
    "\n",
    "# Printing the solution\n",
    "def print_solution(distance):\n",
    "    for i in range(nV):\n",
    "        for j in range(nV):\n",
    "            if(distance[i][j] == INF):\n",
    "                print(\"INF\", end=\" \")\n",
    "            else:\n",
    "                print(distance[i][j], end=\"  \")\n",
    "        print(\" \")\n",
    "\n",
    "\n",
    "G = [[0, 3, INF, 5],\n",
    "         [2, 0, INF, 4],\n",
    "         [INF, 1, 0, INF],\n",
    "         [INF, INF, 2, 0]]\n",
    "floyd_warshall(G)"
   ]
  }
 ],
 "metadata": {
  "kernelspec": {
   "display_name": "Python 3",
   "language": "python",
   "name": "python3"
  },
  "language_info": {
   "codemirror_mode": {
    "name": "ipython",
    "version": 3
   },
   "file_extension": ".py",
   "mimetype": "text/x-python",
   "name": "python",
   "nbconvert_exporter": "python",
   "pygments_lexer": "ipython3",
   "version": "3.11.3"
  },
  "orig_nbformat": 4
 },
 "nbformat": 4,
 "nbformat_minor": 2
}
