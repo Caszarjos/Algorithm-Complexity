{
 "cells": [
  {
   "attachments": {},
   "cell_type": "markdown",
   "metadata": {},
   "source": [
    "## MAYOR DE UN ARREGLO DE NUMERO"
   ]
  },
  {
   "cell_type": "code",
   "execution_count": 48,
   "metadata": {},
   "outputs": [
    {
     "name": "stdout",
     "output_type": "stream",
     "text": [
      "[10, 8, 1, 3, 1, 8, 8, 1, 0, 4] 10\n"
     ]
    }
   ],
   "source": [
    "from random import random\n",
    "\n",
    "#Busca el mayor valor en un arreglo de tamaño n\n",
    "my_list = []\n",
    "\n",
    "for i in range(10):\n",
    "    my_list.append(round(random()*10))\n",
    "\n",
    "def mayorValor(arr):\n",
    "    mayor = arr[0]\n",
    "    for numero in arr:\n",
    "        if mayor < numero:\n",
    "            mayor = numero\n",
    "    print(str(arr) + \" \" + str(mayor))\n",
    "    \n",
    "\n",
    "mayorValor(my_list)\n"
   ]
  },
  {
   "attachments": {},
   "cell_type": "markdown",
   "metadata": {},
   "source": [
    "## factorial de un entero n utilizando un algoritmo lineal"
   ]
  },
  {
   "cell_type": "code",
   "execution_count": 49,
   "metadata": {},
   "outputs": [
    {
     "name": "stdout",
     "output_type": "stream",
     "text": [
      "Factorial de 5 es: 120\n"
     ]
    }
   ],
   "source": [
    "def factorial(num):\n",
    "    fact = 1\n",
    "    for i in range(1, num+1):\n",
    "        fact *= i\n",
    "    print(\"Factorial de {} es: {}\".format(num, fact))\n",
    "factorial(5)"
   ]
  },
  {
   "attachments": {},
   "cell_type": "markdown",
   "metadata": {},
   "source": [
    "## factorial de un entero n, utilizando una función recursiva."
   ]
  },
  {
   "cell_type": "code",
   "execution_count": 50,
   "metadata": {},
   "outputs": [
    {
     "name": "stdout",
     "output_type": "stream",
     "text": [
      "Factorial de 5 es: 120\n"
     ]
    }
   ],
   "source": [
    "def factorial(num):\n",
    "    if num == 0:\n",
    "        return 1\n",
    "    else:\n",
    "        return num * factorial(num-1)\n",
    "num = 5\n",
    "print(\"Factorial de {} es: {}\".format(num, factorial(num)))"
   ]
  },
  {
   "attachments": {},
   "cell_type": "markdown",
   "metadata": {},
   "source": [
    "## Calcula la serie de Fibonacci"
   ]
  },
  {
   "cell_type": "code",
   "execution_count": 51,
   "metadata": {},
   "outputs": [
    {
     "name": "stdout",
     "output_type": "stream",
     "text": [
      "3\n"
     ]
    }
   ],
   "source": [
    "def fibonacci(n):\n",
    "    if n <= 1:\n",
    "        return n\n",
    "    else:\n",
    "        return fibonacci(n-1) + fibonacci(n-2)\n",
    "\n",
    "resultado = fibonacci(4)\n",
    "print(resultado)"
   ]
  },
  {
   "attachments": {},
   "cell_type": "markdown",
   "metadata": {},
   "source": [
    "## EJERCICIO 5"
   ]
  },
  {
   "cell_type": "code",
   "execution_count": 52,
   "metadata": {},
   "outputs": [
    {
     "name": "stdout",
     "output_type": "stream",
     "text": [
      "Valor del arreglo a: [98, 91, 19, 2, 90, 13, 19, 39, 84, 97]\n",
      "Valor del arreglo b: [98.0, 94.5, 69.33333333333333, 52.5, 60.0, 52.166666666666664, 47.42857142857143, 46.375, 50.55555555555556, 55.2]\n"
     ]
    }
   ],
   "source": [
    "n = 10\n",
    "a = []\n",
    "b = []\n",
    "for i in range(n):\n",
    "    a.append(round(random()*100))\n",
    "\n",
    "aux = 0\n",
    "for i in range(n):\n",
    "    aux += a[i]\n",
    "    b.append(aux / (i+1))\n",
    "\n",
    "print(\"Valor del arreglo a: {}\".format(a))\n",
    "print(\"Valor del arreglo b: {}\".format(b))"
   ]
  },
  {
   "attachments": {},
   "cell_type": "markdown",
   "metadata": {},
   "source": [
    "## EJERCICIO 6\n"
   ]
  },
  {
   "cell_type": "code",
   "execution_count": 53,
   "metadata": {},
   "outputs": [
    {
     "name": "stdout",
     "output_type": "stream",
     "text": [
      "Arreglo: [3, 6, 23, 39, 56, 60, 62, 90, 94, 99] \n",
      "Mediana: 60\n"
     ]
    }
   ],
   "source": [
    "n = 10\n",
    "arr = []\n",
    "for i in range(n):\n",
    "    arr.append(round(random()*100))\n",
    "\n",
    "def quicksort(arreglo):\n",
    "    if len(arreglo) <= 1:\n",
    "        return arreglo\n",
    "    else:\n",
    "        pivote = arreglo[0]\n",
    "        menores = [elem for elem in arreglo[1:] if elem <= pivote]\n",
    "        mayores = [elem for elem in arreglo[1:] if elem > pivote]\n",
    "        return quicksort(menores) + [pivote] + quicksort(mayores)\n",
    "ordenado = quicksort(arr)\n",
    "mediana =  round(len(ordenado)/2)\n",
    "mediana = ordenado[mediana]\n",
    "\n",
    "print(\"Arreglo: {} \\nMediana: {}\".format(ordenado, mediana))"
   ]
  },
  {
   "attachments": {},
   "cell_type": "markdown",
   "metadata": {},
   "source": [
    "## EJERCICIO 7\n"
   ]
  },
  {
   "cell_type": "code",
   "execution_count": 54,
   "metadata": {},
   "outputs": [
    {
     "name": "stdout",
     "output_type": "stream",
     "text": [
      "Valor del arreglo a: [3, 64, 62, 2, 71, 67, 17, 97, 2, 16] \n",
      "Mayor: 97 \n",
      "Mayor2: 71\n"
     ]
    }
   ],
   "source": [
    "#HALLAR SEGUNDO ELEMENTO MAS GRANDE\n",
    "n = 10\n",
    "arr = []\n",
    "for i in range(n):\n",
    "    arr.append(round(random()*100))\n",
    "\n",
    "mayor = mayor2 = arr[0]\n",
    "for i in range(n):\n",
    "    if mayor < arr[i]:\n",
    "        mayor = arr[i]\n",
    "\n",
    "for i in range(n):\n",
    "    if mayor2 < arr[i] and arr[i] != mayor:\n",
    "        mayor2 = arr[i]\n",
    "\n",
    "print(\"Valor del arreglo a: {} \\nMayor: {} \\nMayor2: {}\".format(arr, mayor, mayor2))\n"
   ]
  },
  {
   "attachments": {},
   "cell_type": "markdown",
   "metadata": {},
   "source": [
    "## EJERCICIO 8"
   ]
  },
  {
   "cell_type": "code",
   "execution_count": 56,
   "metadata": {},
   "outputs": [
    {
     "name": "stdout",
     "output_type": "stream",
     "text": [
      "Arreglo: [26, 81, 64, 5, 85, 42, 51, 19, 22, 77] \n",
      "Mayor: 85 \n",
      "Menor: 5\n"
     ]
    }
   ],
   "source": [
    "n = 10\n",
    "arr = []\n",
    "for i in range(n):\n",
    "    arr.append(round(random()*100))\n",
    "\n",
    "mayor = menor = arr[0]\n",
    "for i in range(n):\n",
    "    if mayor < arr[i]:\n",
    "        mayor = arr[i]\n",
    "    if menor > arr[i]:\n",
    "        menor = arr[i]\n",
    "print(\"Arreglo: {} \\nMayor: {} \\nMenor: {}\".format(arr, mayor, menor))"
   ]
  },
  {
   "attachments": {},
   "cell_type": "markdown",
   "metadata": {},
   "source": [
    "## EJERCICIO 1: USO DE ARREGLOS"
   ]
  },
  {
   "cell_type": "code",
   "execution_count": 60,
   "metadata": {},
   "outputs": [
    {
     "name": "stdout",
     "output_type": "stream",
     "text": [
      "[88, 27, 10, 59, 84, 81, 21, 4, 83, 18]\n",
      "[18, 83, 4, 21, 81, 84, 59, 10, 27, 88]\n"
     ]
    }
   ],
   "source": [
    "import random\n",
    "arr = []\n",
    "n = 10\n",
    "\n",
    "def generarArreglo(arr, num):\n",
    "    for i in range(num):\n",
    "        arr.append(random.randint(1,100))\n",
    "    return arr\n",
    "\n",
    "def reversa(t):\n",
    "    n = len(t)\n",
    "    for i in range(n // 2):\n",
    "        temp = t[i]\n",
    "        t[i] = t[n - i - 1]\n",
    "        t[n - i - 1] = temp\n",
    "\n",
    "arr = generarArreglo(arr, 10)\n",
    "print(arr)\n",
    "reversa(arr)\n",
    "print(arr)"
   ]
  }
 ],
 "metadata": {
  "kernelspec": {
   "display_name": "Python 3",
   "language": "python",
   "name": "python3"
  },
  "language_info": {
   "codemirror_mode": {
    "name": "ipython",
    "version": 3
   },
   "file_extension": ".py",
   "mimetype": "text/x-python",
   "name": "python",
   "nbconvert_exporter": "python",
   "pygments_lexer": "ipython3",
   "version": "3.11.0"
  },
  "orig_nbformat": 4
 },
 "nbformat": 4,
 "nbformat_minor": 2
}
