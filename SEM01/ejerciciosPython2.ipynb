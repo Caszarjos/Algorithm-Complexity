{
 "cells": [
  {
   "attachments": {},
   "cell_type": "markdown",
   "metadata": {},
   "source": [
    "## HOJA DE EJERCICIOS 2"
   ]
  },
  {
   "attachments": {},
   "cell_type": "markdown",
   "metadata": {},
   "source": [
    "EJERCICIO 1: Bubble Sort"
   ]
  },
  {
   "cell_type": "code",
   "execution_count": 7,
   "metadata": {},
   "outputs": [
    {
     "name": "stdout",
     "output_type": "stream",
     "text": [
      "[6, 15, 27, 41, 42, 55, 57, 85, 87, 93]\n"
     ]
    }
   ],
   "source": [
    "import random\n",
    "\n",
    "def generarArreglo(num):\n",
    "    arr = []\n",
    "    for i in range(num):\n",
    "        arr.append(random.randint(1,100))\n",
    "    return arr\n",
    "\n",
    "arr = generarArreglo(10)\n",
    "\n",
    "def BubbleSort(arr):\n",
    "    n = len(arr)\n",
    "    for i in range(n-1):\n",
    "        for k in range(i+1, n):\n",
    "            if arr[k] < arr[i]:\n",
    "                aux = arr[k]\n",
    "                arr[k] = arr[i]\n",
    "                arr[i] = aux\n",
    "\n",
    "BubbleSort(arr)\n",
    "print(arr)\n"
   ]
  },
  {
   "attachments": {},
   "cell_type": "markdown",
   "metadata": {},
   "source": [
    "EJERCICIO 3: SEND + MORE = MONEY"
   ]
  },
  {
   "cell_type": "code",
   "execution_count": null,
   "metadata": {},
   "outputs": [],
   "source": []
  }
 ],
 "metadata": {
  "kernelspec": {
   "display_name": "Python 3",
   "language": "python",
   "name": "python3"
  },
  "language_info": {
   "codemirror_mode": {
    "name": "ipython",
    "version": 3
   },
   "file_extension": ".py",
   "mimetype": "text/x-python",
   "name": "python",
   "nbconvert_exporter": "python",
   "pygments_lexer": "ipython3",
   "version": "3.11.0"
  },
  "orig_nbformat": 4
 },
 "nbformat": 4,
 "nbformat_minor": 2
}
