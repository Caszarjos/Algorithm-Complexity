{
 "cells": [
  {
   "attachments": {},
   "cell_type": "markdown",
   "metadata": {},
   "source": [
    "## SITIOS DE CONSUMO"
   ]
  },
  {
   "attachments": {},
   "cell_type": "markdown",
   "metadata": {},
   "source": [
    "Una empresa en Lima que fabrica productos de consumo masivo posee 3 plantas de producción: A, B, C y 5 sitios de consumo: T1, T2, T3, T4, T5."
   ]
  },
  {
   "attachments": {},
   "cell_type": "markdown",
   "metadata": {},
   "source": [
    "A. Modelar de forma manual el enunciado a partir de un grafo dirigido/ponderado y hallar, si existe, un conjunto de caminos de consumo de productos enviados desde un lugar de producción inicial hasta el de consumo final."
   ]
  },
  {
   "cell_type": "code",
   "execution_count": 2,
   "metadata": {},
   "outputs": [],
   "source": [
    "import networkx as nx\n",
    "import matplotlib.pyplot as plt"
   ]
  },
  {
   "cell_type": "code",
   "execution_count": 3,
   "metadata": {},
   "outputs": [],
   "source": [
    "production = ['A','B','C']\n",
    "consume = ['T1','T2','T3','T4','T5']\n",
    "\n",
    "edges = [('A','T1'),\n",
    "         ('A','T3'),\n",
    "         ('B','T2'),\n",
    "         ('B','T4'),\n",
    "         ('C','T3'),\n",
    "         ('C','T4'),\n",
    "         ('C','T5')]"
   ]
  },
  {
   "cell_type": "code",
   "execution_count": 4,
   "metadata": {},
   "outputs": [
    {
     "data": {
      "text/plain": [
       "{'A': ['T1', 'T3'], 'B': ['T2', 'T4'], 'C': ['T3', 'T4', 'T5']}"
      ]
     },
     "execution_count": 4,
     "metadata": {},
     "output_type": "execute_result"
    }
   ],
   "source": [
    "# Generate adjacency list from a list of edges\n",
    "def generate_adjlist(edges):\n",
    "    graph_dict = dict()\n",
    "    for edge in edges:\n",
    "        source, target = edge\n",
    "        if source not in graph_dict:\n",
    "            graph_dict[source] = []\n",
    "        graph_dict[source].append(target)\n",
    "    return graph_dict\n",
    "#Example\n",
    "adj_list = generate_adjlist(edges)\n",
    "adj_list"
   ]
  },
  {
   "cell_type": "code",
   "execution_count": 5,
   "metadata": {},
   "outputs": [],
   "source": [
    "union_graph = nx.Graph()\n",
    "union_graph.add_edges_from(edges)"
   ]
  },
  {
   "cell_type": "code",
   "execution_count": 6,
   "metadata": {},
   "outputs": [
    {
     "data": {
      "image/png": "[encoded data removed]",
      "text/plain": [
       "<Figure size 500x200 with 1 Axes>"
      ]
     },
     "metadata": {},
     "output_type": "display_data"
    }
   ],
   "source": [
    "def visualize_graph():\n",
    "    plt.figure(figsize=(5, 2))\n",
    "    pos = nx.planar_layout(union_graph)\n",
    "    nx.draw(union_graph, pos, with_labels=True, node_size=500)\n",
    "    plt.show()\n",
    "visualize_graph()"
   ]
  },
  {
   "attachments": {},
   "cell_type": "markdown",
   "metadata": {},
   "source": [
    "## Solucion"
   ]
  },
  {
   "cell_type": "code",
   "execution_count": 7,
   "metadata": {},
   "outputs": [],
   "source": [
    "def change_weight(valor, nuevo_peso, consume_weights):\n",
    "    for lista in consume_weights:\n",
    "        if lista[0] == valor:\n",
    "            lista[1] = nuevo_peso\n",
    "            break"
   ]
  },
  {
   "cell_type": "code",
   "execution_count": 72,
   "metadata": {},
   "outputs": [
    {
     "name": "stdout",
     "output_type": "stream",
     "text": [
      "[['A', 0], ['B', 0], ['C', 1]]\n",
      "[['T1', 0], ['T2', 0], ['T3', 0], ['T4', 0], ['T5', 0]]\n",
      "Flujo total: 15\n"
     ]
    }
   ],
   "source": [
    "def total_flow(adj_list):\n",
    "    production_weights = [['A', 5], ['B', 4], ['C', 7]]\n",
    "    consume_weights = [['T1', 3], ['T2', 4], ['T3', 5], ['T4', 2], ['T5', 1]]\n",
    "    edge_weights = []\n",
    "    \n",
    "    i = total = 0\n",
    "    prod = production_weights[i]\n",
    "    \n",
    "    queue = []\n",
    "    queue.append(prod) #Site of production where we are \n",
    "    \n",
    "    while queue:\n",
    "        u, w = queue.pop()\n",
    "        # Getting v\n",
    "        if i != (len(production_weights)-1):\n",
    "            i+=1\n",
    "            queue.append(production_weights[i])\n",
    "        lst = adj_list[u]\n",
    "        # Findind the new flow \n",
    "        for v in lst:\n",
    "            for con in consume_weights:\n",
    "                if con[0] == v:\n",
    "                    g = con[1]\n",
    "                    if g < w:\n",
    "                        edge_weights.append(g)\n",
    "                        w = abs(w-g)\n",
    "                        g = 0\n",
    "                    elif g > w:\n",
    "                        edge_weights.append(w)\n",
    "                        g = abs(g-w)\n",
    "                        w = 0\n",
    "                    else:\n",
    "                        edge_weights.append(g)\n",
    "                        g = w = 0\n",
    "                    change_weight(v, g, consume_weights)\n",
    "                    change_weight(u, w, production_weights)\n",
    "                    total = total + w+g\n",
    "    print(production_weights)\n",
    "    print(consume_weights)\n",
    "    print(\"Flujo total: %d\" % sum(edge_weights))\n",
    "total_flow(adj_list=adj_list)"
   ]
  }
 ],
 "metadata": {
  "kernelspec": {
   "display_name": "Python 3",
   "language": "python",
   "name": "python3"
  },
  "language_info": {
   "codemirror_mode": {
    "name": "ipython",
    "version": 3
   },
   "file_extension": ".py",
   "mimetype": "text/x-python",
   "name": "python",
   "nbconvert_exporter": "python",
   "pygments_lexer": "ipython3",
   "version": "3.11.3"
  },
  "orig_nbformat": 4
 },
 "nbformat": 4,
 "nbformat_minor": 2
}
