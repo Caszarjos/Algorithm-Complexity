{
 "cells": [
  {
   "cell_type": "code",
   "execution_count": 63,
   "metadata": {},
   "outputs": [],
   "source": [
    "import numpy as np\n"
   ]
  },
  {
   "cell_type": "code",
   "execution_count": 64,
   "metadata": {},
   "outputs": [],
   "source": [
    "G = [\n",
    "    [1,0,1,0],\n",
    "    [1,0,1,1],\n",
    "    [0,1,1,0],\n",
    "    [1,0,0,0]\n",
    "]"
   ]
  },
  {
   "cell_type": "code",
   "execution_count": 68,
   "metadata": {},
   "outputs": [
    {
     "name": "stdout",
     "output_type": "stream",
     "text": [
      "[[1 0 1 0]\n",
      " [1 0 1 1]\n",
      " [0 1 1 0]\n",
      " [1 0 0 0]]\n"
     ]
    }
   ],
   "source": [
    "A = np.array(G)\n",
    "print(A)"
   ]
  },
  {
   "cell_type": "code",
   "execution_count": 70,
   "metadata": {},
   "outputs": [
    {
     "name": "stdout",
     "output_type": "stream",
     "text": [
      "a -> a\n",
      "a -> c\n",
      "b -> a\n",
      "b -> c\n",
      "b -> d\n",
      "c -> b\n",
      "c -> c\n",
      "d -> a\n"
     ]
    }
   ],
   "source": [
    "for i in range(len(A)):\n",
    "    for j in range(len(A)):\n",
    "        if (A[i,j] == 1):\n",
    "            print(f\"{chr(i+97)} -> {chr(j+97)}\")"
   ]
  },
  {
   "cell_type": "code",
   "execution_count": 66,
   "metadata": {},
   "outputs": [],
   "source": [
    "import graphviz as gv\n",
    "def dibujarGrafo(A):\n",
    "    grafo = gv.Digraph(\"grafo2d\")\n",
    "    n = len(A)\n",
    "    for i in range(n):\n",
    "        for j in range(n):\n",
    "            if (A[i,j] == 1):\n",
    "                grafo.edge(str(i+1), str(j+1))\n",
    "    return grafo"
   ]
  },
  {
   "cell_type": "code",
   "execution_count": 67,
   "metadata": {},
   "outputs": [
    {
     "name": "stdout",
     "output_type": "stream",
     "text": [
      "digraph grafo2d {\n",
      "\t1 -> 1\n",
      "\t1 -> 3\n",
      "\t2 -> 1\n",
      "\t2 -> 3\n",
      "\t2 -> 4\n",
      "\t3 -> 2\n",
      "\t3 -> 3\n",
      "\t4 -> 1\n",
      "}\n",
      "\n"
     ]
    }
   ],
   "source": [
    "migrafo = dibujarGrafo(A)\n",
    "print(migrafo)"
   ]
  },
  {
   "cell_type": "code",
   "execution_count": null,
   "metadata": {},
   "outputs": [],
   "source": [
    "#migrafo\n",
    "\n",
    "#Guardamos la matriz de adyacencia en un archivo\n",
    "%%file file_matrizd2.txt\n",
    "1 0 1 0\n",
    "1 0 1 1\n",
    "0 1 1 0\n",
    "1 0 0 0 \n",
    "\n",
    "#Leer el Archivo\n",
    "A2 = np.loadtxt(\"file_matrizd2.xtx\", dtype=int)\n",
    "print(A2)"
   ]
  },
  {
   "cell_type": "code",
   "execution_count": null,
   "metadata": {},
   "outputs": [],
   "source": [
    "DibujarGrafo(A2)"
   ]
  }
 ],
 "metadata": {
  "kernelspec": {
   "display_name": "Python 3",
   "language": "python",
   "name": "python3"
  },
  "language_info": {
   "codemirror_mode": {
    "name": "ipython",
    "version": 3
   },
   "file_extension": ".py",
   "mimetype": "text/x-python",
   "name": "python",
   "nbconvert_exporter": "python",
   "pygments_lexer": "ipython3",
   "version": "3.11.3"
  },
  "orig_nbformat": 4
 },
 "nbformat": 4,
 "nbformat_minor": 2
}
