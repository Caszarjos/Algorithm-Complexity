{
 "cells": [
  {
   "attachments": {},
   "cell_type": "markdown",
   "metadata": {},
   "source": [
    "## Escriba un algoritmo en Python que implemente una función recursiva que reciba como parámetro una cadena, y la devuelva de manera inversa, comenzando desde el último carácter hasta el primero."
   ]
  },
  {
   "cell_type": "code",
   "execution_count": 6,
   "metadata": {},
   "outputs": [
    {
     "name": "stdout",
     "output_type": "stream",
     "text": [
      "aloh\n"
     ]
    }
   ],
   "source": [
    "def cadena_inversa(cadena):\n",
    "    if len(cadena) == 0: #Caso Base\n",
    "        return \"\"\n",
    "    else:\n",
    "        # Retorna el ultimo valor de la cadena + recursividad de la cadena sin el ultimo valor\n",
    "        return cadena[-1] + cadena_inversa(cadena[:-1]) \n",
    "\n",
    "print(cadena_inversa(\"Hola!\"))\n"
   ]
  }
 ],
 "metadata": {
  "kernelspec": {
   "display_name": "Python 3",
   "language": "python",
   "name": "python3"
  },
  "language_info": {
   "codemirror_mode": {
    "name": "ipython",
    "version": 3
   },
   "file_extension": ".py",
   "mimetype": "text/x-python",
   "name": "python",
   "nbconvert_exporter": "python",
   "pygments_lexer": "ipython3",
   "version": "3.11.3"
  },
  "orig_nbformat": 4
 },
 "nbformat": 4,
 "nbformat_minor": 2
}
