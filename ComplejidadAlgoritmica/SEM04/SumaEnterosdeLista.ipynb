{
 "cells": [
  {
   "attachments": {},
   "cell_type": "markdown",
   "metadata": {},
   "source": [
    "## Escriba un algoritmo en Python que implemente una función recursiva que reciba como parámetro una lista conteniendo ya sea ítems de números enteros y sublistas de enteros, y devuelva la suma total de todos los ítems."
   ]
  },
  {
   "cell_type": "code",
   "execution_count": 7,
   "metadata": {},
   "outputs": [
    {
     "data": {
      "text/plain": [
       "21"
      ]
     },
     "execution_count": 7,
     "metadata": {},
     "output_type": "execute_result"
    }
   ],
   "source": [
    "def SumaEnterosdeLista(lista):\n",
    "    if not lista: # len(lista) == 0\n",
    "        return 0\n",
    "    if isinstance(lista[0], list): # Si lista[0] es una lista\n",
    "        return SumaEnterosdeLista(lista[0]) + SumaEnterosdeLista(lista[1:]) \n",
    "    return lista[0] + SumaEnterosdeLista(lista[1:]) #Recursividad que suma los valores de la lista\n",
    "\n",
    "SumaEnterosdeLista([1,2,[3,4],[5,6]])"
   ]
  }
 ],
 "metadata": {
  "kernelspec": {
   "display_name": "Python 3",
   "language": "python",
   "name": "python3"
  },
  "language_info": {
   "codemirror_mode": {
    "name": "ipython",
    "version": 3
   },
   "file_extension": ".py",
   "mimetype": "text/x-python",
   "name": "python",
   "nbconvert_exporter": "python",
   "pygments_lexer": "ipython3",
   "version": "3.11.3"
  },
  "orig_nbformat": 4
 },
 "nbformat": 4,
 "nbformat_minor": 2
}
