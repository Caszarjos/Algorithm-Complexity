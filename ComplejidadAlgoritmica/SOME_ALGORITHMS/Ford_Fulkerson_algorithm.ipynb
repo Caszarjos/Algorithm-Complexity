{
 "cells": [
  {
   "attachments": {},
   "cell_type": "markdown",
   "metadata": {},
   "source": [
    "## FORD FULKERSON"
   ]
  },
  {
   "cell_type": "code",
   "execution_count": 3,
   "metadata": {},
   "outputs": [
    {
     "name": "stdout",
     "output_type": "stream",
     "text": [
      "[[0, 5, 0, 0, 0, 0], [3, 0, 6, 0, 0, 0], [0, 3, 0, 0, 6, 0], [0, 0, 0, 0, 4, 1], [3, 0, 8, 0, 0, 0], [0, 0, 2, 4, 0, 0]]\n",
      "Max Flow: 6 \n"
     ]
    }
   ],
   "source": [
    "# Ford-Fulkerson algorith in Python\n",
    "\n",
    "from collections import defaultdict\n",
    "\n",
    "\n",
    "class Graph:\n",
    "\n",
    "    def __init__(self, graph):\n",
    "        self.graph = graph\n",
    "        self. ROW = len(graph)\n",
    "    # Using BFS as a searching algorithm \n",
    "    def searching_algo_BFS(self, s, t, parent):\n",
    "        visited = [False] * (self.ROW)\n",
    "        queue = []\n",
    "        queue.append(s)\n",
    "        visited[s] = True\n",
    "        while queue:\n",
    "            u = queue.pop(0)\n",
    "            for ind, val in enumerate(self.graph[u]):\n",
    "                if visited[ind] == False and val > 0:\n",
    "                    queue.append(ind)\n",
    "                    visited[ind] = True\n",
    "                    parent[ind] = u\n",
    "        return True if visited[t] else False\n",
    "    # Applying fordfulkerson algorithm\n",
    "    def ford_fulkerson(self, source, sink):\n",
    "        parent = [-1] * (self.ROW)\n",
    "        max_flow = 0\n",
    "        while self.searching_algo_BFS(source, sink, parent):\n",
    "            path_flow = float(\"Inf\")\n",
    "            s = sink\n",
    "            while(s != source):\n",
    "                path_flow = min(path_flow, self.graph[parent[s]][s])\n",
    "                s = parent[s]\n",
    "            # Adding the path flows\n",
    "            max_flow += path_flow\n",
    "            # Updating the residual values of edges\n",
    "            v = sink\n",
    "            while(v != source):\n",
    "                u = parent[v]\n",
    "                self.graph[u][v] -= path_flow\n",
    "                self.graph[v][u] += path_flow\n",
    "                v = parent[v]\n",
    "        print(graph)\n",
    "        return max_flow\n",
    "\n",
    "graph = [[0, 8, 0, 0, 3, 0],\n",
    "         [0, 0, 9, 0, 0, 0],\n",
    "         [0, 0, 0, 0, 7, 2],\n",
    "         [0, 0, 0, 0, 0, 5],\n",
    "         [0, 0, 7, 4, 0, 0],\n",
    "         [0, 0, 0, 0, 0, 0]]\n",
    "\n",
    "g = Graph(graph)\n",
    "\n",
    "source = 0\n",
    "sink = 5\n",
    "\n",
    "print(\"Max Flow: %d \" % g.ford_fulkerson(source, sink))"
   ]
  }
 ],
 "metadata": {
  "kernelspec": {
   "display_name": "Python 3",
   "language": "python",
   "name": "python3"
  },
  "language_info": {
   "codemirror_mode": {
    "name": "ipython",
    "version": 3
   },
   "file_extension": ".py",
   "mimetype": "text/x-python",
   "name": "python",
   "nbconvert_exporter": "python",
   "pygments_lexer": "ipython3",
   "version": "3.11.3"
  },
  "orig_nbformat": 4
 },
 "nbformat": 4,
 "nbformat_minor": 2
}
