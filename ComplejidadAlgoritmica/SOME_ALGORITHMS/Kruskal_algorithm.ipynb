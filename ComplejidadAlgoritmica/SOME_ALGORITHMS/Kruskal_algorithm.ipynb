{
 "cells": [
  {
   "cell_type": "code",
   "execution_count": 1,
   "metadata": {},
   "outputs": [
    {
     "name": "stdout",
     "output_type": "stream",
     "text": [
      "6 - 7: 1\n",
      "2 - 8: 2\n",
      "5 - 6: 2\n",
      "0 - 1: 4\n",
      "2 - 5: 4\n",
      "2 - 3: 7\n",
      "0 - 7: 8\n",
      "3 - 4: 9\n"
     ]
    }
   ],
   "source": [
    "def kruskal_algo(graph, V):\n",
    "    \n",
    "    result = [] #ARRAY OF EDGES OF THE RESULT SINTAX:[(u,v,w),(u,v,w)....]\n",
    "    \n",
    "    i, e = 0, 0 #INISIALIZE INDEXES\n",
    "    \n",
    "    graph = sorted(graph, key=lambda item: item[2]) #ORDER THE EDGES OF THE GRAPH BY THE WEIGHT ASCENDENTING\n",
    "    parent = [node for node in range(V)] #THE PARENT ITS THE NODE ITSELF\n",
    "    rank = [0] * V #ARRAY OF CEROS, REPRESENT HOW DEPH IS THE NODE\n",
    "\n",
    "    def find(parent, node): #ABSOLUTE PARENT OF THE NODE\n",
    "        if parent[node] != node: # IF THE PARENT NODE ITS NOT THE NODE ITSELF\n",
    "            parent[node] = find(parent, parent[node]) #FIND THE PARENT OF THE NODE (parent is the array, parent[node] is where point the node])\n",
    "        return parent[node] #RETURN THE ABSOLUTE PARENT OF THE NODE\n",
    "\n",
    "    def apply_union(parent, rank, x, y): #APLIES THE UNION BETWEEN TWO NODES HOW HAVE DIFERENTE ABSOLUTE PARENTS VALUES\n",
    "        x_root = find(parent, x) # x_root IS THE ABSOLUTE PARENT OF 'X'\n",
    "        y_root = find(parent, y) # y_root IS THE ABSOOLUTE PARENT OF 'Y'\n",
    "        if rank[x_root] < rank[y_root]: \n",
    "        # COMPARITION BETWEEN THE RANK OF THE ABSOLUTE PARENTS OF X AND Y\n",
    "        # THIS COMPARTION ITS NECESARY FOR SELECT THE NEW PARENT OF THE TWO NODES\n",
    "        # parent[x_root] = y_root IT MEANS THAT IF THE RANK OF THE ABSOLUTE PARENT OF Y IS \n",
    "        # HIGHER THAN THE RANK OF THE ABSOLUTE PARTEN OF Y, SO THE NEW PARENT OF THE ABSOLUTE \n",
    "        # PARTEN OF X (x_root) IS NOW y_root\n",
    "            parent[x_root] = y_root\n",
    "        elif rank[x_root] > rank[y_root]:\n",
    "        #ITS THE SAME COMPARITION BUT NOW IN THE CASE THAT THE RANK OF x_root IS HIGHER THAN y_root\n",
    "            parent[y_root] = x_root\n",
    "        else:\n",
    "        # IN CASE THAT THE RANKS ARE THE SAME\n",
    "            parent[y_root] = x_root\n",
    "            rank[x_root] += 1\n",
    "\n",
    "    while e < V - 1: # e: ITERATION INDEX | V - 1: #VERTEX - 1 (EDGES HAVE TO BE THE # OF VERTEX - 1, EJ: if v = 5 , e = 4 FOR KRUSKAL)\n",
    "        u, v, w = graph[i] #EXTRACT THE FIRST EDGES [(u,v,w)]\n",
    "        i += 1 # SUM + 1 IN THE I INDEX\n",
    "        x = find(parent, u) # FIND THE ABSOLUTE PARENT OF THE 'u' NODE OR 'FROM' NODE\n",
    "        y = find(parent, v) # FIND THE ABSOLUTE PARENT OF THE 'v' NODE OR 'TO' NODE\n",
    "        if x != y: # IF THE ABSOLUTE PARENTS OF 'x' AND 'y' ARE DIFERENT\n",
    "            e += 1 \n",
    "            # e + 1 BECAUSE WE FIND THAT THE TWO NODES HAVE DIFERENT ABSOLUTE PARENTS SO THIS MEAN THAT CAN'T EXIST A CYCLE IF THE EDGE\n",
    "            # OF THIS TWO NODES IS ADDED TO THE RESULT LIST OF EDGES (WICH IS THE SOLUTION OF KRUSKAL)\n",
    "            result.append([u, v, w]) # WE ADDED THE EDGE\n",
    "            apply_union(parent, rank, x, y) # ADD UNION TO CHANGE THE NEW PARENTS OF EACH NODE\n",
    "    for u, v, weight in result: #DISPLAY\n",
    "        print(\"%d - %d: %d\" % (u, v, weight))\n",
    "\n",
    "# Example usage\n",
    "graph = [[0, 1, 4], [0, 7, 8], [1, 7, 11], [1, 2, 8], [2, 3, 7], [2, 5, 4], [2, 8, 2], [3, 4, 9], [3, 5, 14],\n",
    "         [4, 5, 10], [5, 6, 2], [6, 7, 1], [6, 8, 6], [7, 8, 7]]\n",
    "V = 9\n",
    "\n",
    "# Applying Kruskal's algorithm\n",
    "kruskal_algo(graph, V)"
   ]
  }
 ],
 "metadata": {
  "kernelspec": {
   "display_name": "Python 3",
   "language": "python",
   "name": "python3"
  },
  "language_info": {
   "codemirror_mode": {
    "name": "ipython",
    "version": 3
   },
   "file_extension": ".py",
   "mimetype": "text/x-python",
   "name": "python",
   "nbconvert_exporter": "python",
   "pygments_lexer": "ipython3",
   "version": "3.11.3"
  },
  "orig_nbformat": 4
 },
 "nbformat": 4,
 "nbformat_minor": 2
}
