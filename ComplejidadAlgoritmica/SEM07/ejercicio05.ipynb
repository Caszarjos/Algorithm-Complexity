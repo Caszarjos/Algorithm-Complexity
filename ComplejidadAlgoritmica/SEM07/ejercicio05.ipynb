{
 "cells": [
  {
   "attachments": {},
   "cell_type": "markdown",
   "metadata": {},
   "source": [
    "# EJERCICIO 05"
   ]
  },
  {
   "cell_type": "code",
   "execution_count": 1,
   "metadata": {},
   "outputs": [],
   "source": [
    "import queue"
   ]
  },
  {
   "cell_type": "code",
   "execution_count": 5,
   "metadata": {},
   "outputs": [],
   "source": [
    "def createMaze():\n",
    "    maze = []\n",
    "    maze.append([\"#\",\"#\", \"#\", \"#\", \"#\", \"#\", \"#\",\"#\", \"#\", \"#\", \"#\"])\n",
    "    maze.append([\"#\",\" \", \" \", \" \", \" \", \" \",\" \", \" \", \" \", \" \", \"#\"])\n",
    "    maze.append([\"#\",\"#\", \"#\", \" \", \"#\", \" \",\"#\", \"#\", \"#\", \"#\", \"#\"])\n",
    "    maze.append([\"#\",\" \", \" \", \" \", \"#\", \" \",\" \", \" \", \" \", \" \", \"#\"])\n",
    "    maze.append([\"#\",\"#\", \"#\", \"#\", \"#\", \" \",\"#\", \" \", \"#\", \" \", \"#\"])\n",
    "    maze.append([\"#\",\" \", \" \", \" \", \"#\", \" \",\"#\", \" \", \"#\", \" \", \"#\"])\n",
    "    maze.append([\"#\",\" \", \"#\", \" \", \"#\", \"#\",\"#\", \"#\", \"#\", \" \", \"#\"])\n",
    "    maze.append([\"#\",\" \", \"#\", \" \", \" \", \" \", \" \",\" \", \" \", \" \", \"#\"])\n",
    "    maze.append([\"#\",\"#\", \"#\", \"#\", \"#\", \"#\", \"#\",\"#\", \"#\", \"#\", \"#\"])\n",
    "    \n",
    "    return maze"
   ]
  },
  {
   "cell_type": "code",
   "execution_count": 4,
   "metadata": {},
   "outputs": [
    {
     "name": "stdout",
     "output_type": "stream",
     "text": [
      "# # # # # O # \n",
      "#       #   # \n",
      "#   #   #   # \n",
      "#   #       # \n",
      "#   # # #   # \n",
      "#       #   # \n",
      "# # # # # X # \n"
     ]
    }
   ],
   "source": [
    "def printMaze(maze, path=\"\"):\n",
    "    for x, pos in enumerate(maze[0]):\n",
    "        if pos == \"O\":\n",
    "            start = x\n",
    "\n",
    "    i = start\n",
    "    j = 0\n",
    "    pos = set()\n",
    "    for move in path:\n",
    "        if move == \"L\":\n",
    "            i -= 1\n",
    "\n",
    "        elif move == \"R\":\n",
    "            i += 1\n",
    "\n",
    "        elif move == \"U\":\n",
    "            j -= 1\n",
    "\n",
    "        elif move == \"D\":\n",
    "            j += 1\n",
    "        pos.add((j, i))\n",
    "    \n",
    "    for j, row in enumerate(maze):\n",
    "        for i, col in enumerate(row):\n",
    "            if (j, i) in pos:\n",
    "                print(\"+ \", end=\"\")\n",
    "            else:\n",
    "                print(col + \" \", end=\"\")\n",
    "        print()\n",
    "printMaze(createMaze())"
   ]
  }
 ],
 "metadata": {
  "kernelspec": {
   "display_name": "Python 3",
   "language": "python",
   "name": "python3"
  },
  "language_info": {
   "codemirror_mode": {
    "name": "ipython",
    "version": 3
   },
   "file_extension": ".py",
   "mimetype": "text/x-python",
   "name": "python",
   "nbconvert_exporter": "python",
   "pygments_lexer": "ipython3",
   "version": "3.11.3"
  },
  "orig_nbformat": 4
 },
 "nbformat": 4,
 "nbformat_minor": 2
}
