{
 "cells": [
  {
   "attachments": {},
   "cell_type": "markdown",
   "metadata": {},
   "source": [
    "# EVALUACION DE ALGORITMO"
   ]
  },
  {
   "attachments": {},
   "cell_type": "markdown",
   "metadata": {},
   "source": [
    "Una vez revisado el problema entendemos que aca existe un problema de prerequisitos, ya que nuestra compañera Maricielo necesita ayuda para poder realizar sus tareas en cierto orden tomando en cuenta que existen tareas que dependen de haber realiado otras. Es por ello que para la solucion de este problema se usara el algoritmo de Ordenamiento Topologico, el cual es comunmente usado para este tipo de problemas. Puesto que este hace uso de un grafo dirigido aciclico, el cual tiene nodos fuente que se usaran como nodos iniciales e ira recorriendo el grafo mediante el algoritmo Depth First Search hasta que este no encuentre mas valores y retorne el ultimo valor, esto lo hace mediante un stack o tambien puede usar recursividad como veremos a continuacion."
   ]
  },
  {
   "attachments": {},
   "cell_type": "markdown",
   "metadata": {},
   "source": [
    "# IMPORTAMOS LIBRERIAS QUE USAREMOS"
   ]
  },
  {
   "cell_type": "code",
   "execution_count": 85,
   "metadata": {},
   "outputs": [],
   "source": [
    "import graphviz as gv\n",
    "from collections import deque"
   ]
  },
  {
   "attachments": {},
   "cell_type": "markdown",
   "metadata": {},
   "source": [
    "# ESCRIBIMOS EL ARCHIVO"
   ]
  },
  {
   "cell_type": "code",
   "execution_count": 103,
   "metadata": {},
   "outputs": [
    {
     "name": "stdout",
     "output_type": "stream",
     "text": [
      "Overwriting archivo.txt\n"
     ]
    }
   ],
   "source": [
    "%%file archivo.txt\n",
    "5 4\n",
    "1 4\n",
    "2 3\n",
    "1 3\n",
    "1 5\n",
    "0 0"
   ]
  },
  {
   "attachments": {},
   "cell_type": "markdown",
   "metadata": {},
   "source": [
    "# LEEMOS EL ARCHIVO"
   ]
  },
  {
   "cell_type": "code",
   "execution_count": 104,
   "metadata": {},
   "outputs": [
    {
     "name": "stdout",
     "output_type": "stream",
     "text": [
      "5 4\n",
      "deque([[1, 4], [2, 3], [1, 3], [1, 5], [0, 0]])\n"
     ]
    }
   ],
   "source": [
    "G = deque()\n",
    "with open(\"archivo.txt\") as f:\n",
    "  for line in f:\n",
    "    #RESTRICCION PARA LA ULTIMA LINEA\n",
    "    if line == '0 0':\n",
    "      break\n",
    "    else:\n",
    "      G.append([int(x) for x in line.split()])\n",
    "      \n",
    "#RECOLECTAMOS EL PRIMER VALOR EL CUAL NOS DIRA LA CANTIDAD DE CURSOS QUE EXISTEN\n",
    "#Y LA CANTIDAD DE RELACIONES QUE EXISTEN\n",
    "n,m = G.popleft()\n",
    "\n",
    "#IMPRIMIMOS\n",
    "print(n,m)\n",
    "print(G)"
   ]
  },
  {
   "attachments": {},
   "cell_type": "markdown",
   "metadata": {},
   "source": [
    "# CREAMOS LISTA DE ADYACENCIA"
   ]
  },
  {
   "attachments": {},
   "cell_type": "markdown",
   "metadata": {},
   "source": [
    "Se debe crear una lista de adjacencia puesto que los valores que nos dan estan en un formato el cual no puede entender el algoritmo toposort."
   ]
  },
  {
   "cell_type": "code",
   "execution_count": 105,
   "metadata": {},
   "outputs": [
    {
     "data": {
      "text/plain": [
       "[[0], [4, 3, 5], [3], [], [], []]"
      ]
     },
     "execution_count": 105,
     "metadata": {},
     "output_type": "execute_result"
    }
   ],
   "source": [
    "adjList = [[] for i in range(n+1)]\n",
    "for index, edge in G:\n",
    "    adjList[index].append(edge)\n",
    "adjList"
   ]
  },
  {
   "attachments": {},
   "cell_type": "markdown",
   "metadata": {},
   "source": [
    "# ALGORITMO DE ORDEN TOPOLOGICO"
   ]
  },
  {
   "attachments": {},
   "cell_type": "markdown",
   "metadata": {},
   "source": [
    "Este algoritmo trabajara de forma recursiva con el algoritmo DFS, el cual nos sirve para recorrer los nodos mas profundos dentro de un grafo."
   ]
  },
  {
   "cell_type": "code",
   "execution_count": 106,
   "metadata": {},
   "outputs": [],
   "source": [
    "def toposort(G):\n",
    "  n = len(G)\n",
    "  visited = [False]*n\n",
    "  ts = []\n",
    "\n",
    "  def dfs(u):\n",
    "    visited[u] = True\n",
    "    for v in G[u]:\n",
    "      if not visited[v]:\n",
    "        dfs(v)\n",
    "    ts.append(u)\n",
    "\n",
    "  for u in range(1, n):\n",
    "    if not visited[u]:\n",
    "      dfs(u)\n",
    "\n",
    "  return ts"
   ]
  },
  {
   "attachments": {},
   "cell_type": "markdown",
   "metadata": {},
   "source": [
    "# CONSIDERACION"
   ]
  },
  {
   "attachments": {},
   "cell_type": "markdown",
   "metadata": {},
   "source": [
    "Procederemos a voltear el arreglo puesto que esta version de toposort nos retorna los valores pero imprime primero lo nodos visitados al final y los nodos visitados al principio los imprime ultimos"
   ]
  },
  {
   "cell_type": "code",
   "execution_count": 107,
   "metadata": {},
   "outputs": [
    {
     "data": {
      "text/plain": [
       "[2, 1, 5, 3, 4]"
      ]
     },
     "execution_count": 107,
     "metadata": {},
     "output_type": "execute_result"
    }
   ],
   "source": [
    "ts = toposort(adjList)\n",
    "\n",
    "def reversed(arr, st, end):\n",
    "    if st >= end:\n",
    "        return arr\n",
    "    arr[st], arr[end] = arr[end], arr[st]\n",
    "    return reversed(arr, st+1, end-1)\n",
    "\n",
    "ts = reversed(ts, 0, len(ts)-1)\n",
    "ts"
   ]
  },
  {
   "attachments": {},
   "cell_type": "markdown",
   "metadata": {},
   "source": [
    "Aqui podemos observar que el ordenamiento toposort funciona perfectamente. Puesto que el valor 2 es un nodo fuente el cual no tiene flechas entrantes. Posteriormente, selecciono como segundo valor el nodo de valor 1 el cual es prerequisito de las tareas 5, 3 y 4, los cuales son los que se haran ultimo ya que primero se debera avanzar la tarea 1 para desbloquearlos."
   ]
  },
  {
   "attachments": {},
   "cell_type": "markdown",
   "metadata": {},
   "source": [
    "# DIBUJAMOS CON GRAPHVIZ (No completado)"
   ]
  },
  {
   "cell_type": "code",
   "execution_count": 94,
   "metadata": {},
   "outputs": [],
   "source": [
    "def drawG_al(G, directed=False, path=[]):\n",
    "  graph = gv.Digraph(\"di-anyname\") if directed else gv.Graph(\"anyname\")\n",
    "  n = len(G)\n",
    "  added = set()\n",
    "  for v, u in enumerate(path):\n",
    "    if u != -1:\n",
    "      graph.edge(str(u), str(v), dir=\"forward\", penwidth=\"2\", color=\"orange\")\n",
    "      added.add(f\"{u},{v}\")\n",
    "      added.add(f\"{v},{u}\")\n",
    "  for u in range(n):\n",
    "    for v in G[u]:\n",
    "      if not directed and not f\"{u},{v}\" in added:  \n",
    "        added.add(f\"{u},{v}\")\n",
    "        added.add(f\"{v},{u}\")\n",
    "        graph.edge(str(u), str(v))\n",
    "      elif directed:\n",
    "        graph.edge(str(u), str(v))\n",
    "  return graph"
   ]
  },
  {
   "cell_type": "code",
   "execution_count": 95,
   "metadata": {},
   "outputs": [
    {
     "data": {
      "image/svg+xml": [
       "<?xml version=\"1.0\" encoding=\"UTF-8\" standalone=\"no\"?>\n",
       "<!DOCTYPE svg PUBLIC \"-//W3C//DTD SVG 1.1//EN\"\n",
       " \"http://www.w3.org/Graphics/SVG/1.1/DTD/svg11.dtd\">\n",
       "<!-- Generated by graphviz version 8.0.2 (20230410.1723)\n",
       " -->\n",
       "<!-- Title: anyname Pages: 1 -->\n",
       "<svg width=\"161pt\" height=\"332pt\"\n",
       " viewBox=\"0.00 0.00 161.00 332.00\" xmlns=\"http://www.w3.org/2000/svg\" xmlns:xlink=\"http://www.w3.org/1999/xlink\">\n",
       "<g id=\"graph0\" class=\"graph\" transform=\"scale(1 1) rotate(0) translate(4 328)\">\n",
       "<title>anyname</title>\n",
       "<polygon fill=\"white\" stroke=\"none\" points=\"-4,4 -4,-328 157,-328 157,4 -4,4\"/>\n",
       "<!-- 0 -->\n",
       "<g id=\"node1\" class=\"node\">\n",
       "<title>0</title>\n",
       "<ellipse fill=\"none\" stroke=\"black\" cx=\"90\" cy=\"-306\" rx=\"27\" ry=\"18\"/>\n",
       "<text text-anchor=\"middle\" x=\"90\" y=\"-302.3\" font-family=\"Times New Roman,serif\" font-size=\"14.00\">0</text>\n",
       "</g>\n",
       "<!-- 1 -->\n",
       "<g id=\"node2\" class=\"node\">\n",
       "<title>1</title>\n",
       "<ellipse fill=\"none\" stroke=\"black\" cx=\"54\" cy=\"-234\" rx=\"27\" ry=\"18\"/>\n",
       "<text text-anchor=\"middle\" x=\"54\" y=\"-230.3\" font-family=\"Times New Roman,serif\" font-size=\"14.00\">1</text>\n",
       "</g>\n",
       "<!-- 0&#45;&#45;1 -->\n",
       "<g id=\"edge1\" class=\"edge\">\n",
       "<title>0&#45;&#45;1</title>\n",
       "<path fill=\"none\" stroke=\"black\" d=\"M81.65,-288.76C75.83,-277.46 68.11,-262.44 62.3,-251.15\"/>\n",
       "</g>\n",
       "<!-- 4 -->\n",
       "<g id=\"node3\" class=\"node\">\n",
       "<title>4</title>\n",
       "<ellipse fill=\"none\" stroke=\"black\" cx=\"126\" cy=\"-234\" rx=\"27\" ry=\"18\"/>\n",
       "<text text-anchor=\"middle\" x=\"126\" y=\"-230.3\" font-family=\"Times New Roman,serif\" font-size=\"14.00\">4</text>\n",
       "</g>\n",
       "<!-- 0&#45;&#45;4 -->\n",
       "<g id=\"edge2\" class=\"edge\">\n",
       "<title>0&#45;&#45;4</title>\n",
       "<path fill=\"none\" stroke=\"black\" d=\"M98.35,-288.76C104.17,-277.46 111.89,-262.44 117.7,-251.15\"/>\n",
       "</g>\n",
       "<!-- 2 -->\n",
       "<g id=\"node4\" class=\"node\">\n",
       "<title>2</title>\n",
       "<ellipse fill=\"none\" stroke=\"black\" cx=\"27\" cy=\"-162\" rx=\"27\" ry=\"18\"/>\n",
       "<text text-anchor=\"middle\" x=\"27\" y=\"-158.3\" font-family=\"Times New Roman,serif\" font-size=\"14.00\">2</text>\n",
       "</g>\n",
       "<!-- 1&#45;&#45;2 -->\n",
       "<g id=\"edge3\" class=\"edge\">\n",
       "<title>1&#45;&#45;2</title>\n",
       "<path fill=\"none\" stroke=\"black\" d=\"M47.46,-216.05C43.22,-205.05 37.71,-190.76 33.48,-179.79\"/>\n",
       "</g>\n",
       "<!-- 3 -->\n",
       "<g id=\"node5\" class=\"node\">\n",
       "<title>3</title>\n",
       "<ellipse fill=\"none\" stroke=\"black\" cx=\"54\" cy=\"-90\" rx=\"27\" ry=\"18\"/>\n",
       "<text text-anchor=\"middle\" x=\"54\" y=\"-86.3\" font-family=\"Times New Roman,serif\" font-size=\"14.00\">3</text>\n",
       "</g>\n",
       "<!-- 1&#45;&#45;3 -->\n",
       "<g id=\"edge4\" class=\"edge\">\n",
       "<title>1&#45;&#45;3</title>\n",
       "<path fill=\"none\" stroke=\"black\" d=\"M57.65,-215.91C59.68,-205.57 61.98,-192.09 63,-180 64.34,-164.06 64.34,-159.94 63,-144 61.98,-131.91 59.68,-118.43 57.65,-108.09\"/>\n",
       "</g>\n",
       "<!-- 2&#45;&#45;3 -->\n",
       "<g id=\"edge5\" class=\"edge\">\n",
       "<title>2&#45;&#45;3</title>\n",
       "<path fill=\"none\" stroke=\"black\" d=\"M33.54,-144.05C37.78,-133.05 43.29,-118.76 47.52,-107.79\"/>\n",
       "</g>\n",
       "<!-- 5 -->\n",
       "<g id=\"node6\" class=\"node\">\n",
       "<title>5</title>\n",
       "<ellipse fill=\"none\" stroke=\"black\" cx=\"54\" cy=\"-18\" rx=\"27\" ry=\"18\"/>\n",
       "<text text-anchor=\"middle\" x=\"54\" y=\"-14.3\" font-family=\"Times New Roman,serif\" font-size=\"14.00\">5</text>\n",
       "</g>\n",
       "<!-- 3&#45;&#45;5 -->\n",
       "<g id=\"edge6\" class=\"edge\">\n",
       "<title>3&#45;&#45;5</title>\n",
       "<path fill=\"none\" stroke=\"black\" d=\"M54,-71.7C54,-60.85 54,-46.92 54,-36.1\"/>\n",
       "</g>\n",
       "</g>\n",
       "</svg>\n"
      ],
      "text/plain": [
       "<graphviz.graphs.Graph at 0x1e5707a8dd0>"
      ]
     },
     "execution_count": 95,
     "metadata": {},
     "output_type": "execute_result"
    }
   ],
   "source": [
    "drawG_al(G)"
   ]
  }
 ],
 "metadata": {
  "kernelspec": {
   "display_name": "Python 3",
   "language": "python",
   "name": "python3"
  },
  "language_info": {
   "codemirror_mode": {
    "name": "ipython",
    "version": 3
   },
   "file_extension": ".py",
   "mimetype": "text/x-python",
   "name": "python",
   "nbconvert_exporter": "python",
   "pygments_lexer": "ipython3",
   "version": "3.11.3"
  },
  "orig_nbformat": 4
 },
 "nbformat": 4,
 "nbformat_minor": 2
}
