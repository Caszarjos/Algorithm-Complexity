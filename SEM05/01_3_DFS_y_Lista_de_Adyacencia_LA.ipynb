{
  "cells": [
    {
      "attachments": {},
      "cell_type": "markdown",
      "metadata": {
        "id": "atClcMx92fLh"
      },
      "source": [
        "# **BUSQUEDA EN PROFUNDIDAD EN UNA LISTA DE ADYACENCIA**"
      ]
    },
    {
      "attachments": {},
      "cell_type": "markdown",
      "metadata": {
        "id": "GUKO1kRN2zvR"
      },
      "source": [
        "### **Función DFS para recorrer una LA**"
      ]
    },
    {
      "cell_type": "code",
      "execution_count": 1,
      "metadata": {
        "id": "3s27546qn-FV"
      },
      "outputs": [],
      "source": [
        "import graphviz as gv"
      ]
    },
    {
      "cell_type": "code",
      "execution_count": 2,
      "metadata": {
        "id": "dVfjrph-nOPh"
      },
      "outputs": [],
      "source": [
        "def dfs(G, s):\n",
        "  n = len(G)\n",
        "  path = [-1]*n\n",
        "  visited = [False]*n\n",
        "\n",
        "  def _dfs(u):\n",
        "    visited[u] = True\n",
        "    for v in G[u]:\n",
        "      if not visited[v]:\n",
        "        path[v] = u\n",
        "        _dfs(v)\n",
        "\n",
        "  _dfs(s)\n",
        "  return path"
      ]
    },
    {
      "attachments": {},
      "cell_type": "markdown",
      "metadata": {
        "id": "TY8AaC_s292o"
      },
      "source": [
        "Generamos una LA segun el siguiente texto:"
      ]
    },
    {
      "cell_type": "code",
      "execution_count": 3,
      "metadata": {
        "colab": {
          "base_uri": "https://localhost:8080/"
        },
        "id": "LwZpKJ8Vnm5Q",
        "outputId": "6c1a9d35-fb16-41da-8fff-ba1b0fa3d2ee"
      },
      "outputs": [
        {
          "name": "stdout",
          "output_type": "stream",
          "text": [
            "Overwriting 03a.la\n"
          ]
        }
      ],
      "source": [
        "%%file 03a.la\n",
        "1 4\n",
        "0 3 5 6\n",
        "4 5 6\n",
        "1 7\n",
        "0 2 6 7\n",
        "1 2\n",
        "1 2 4\n",
        "3 4"
      ]
    },
    {
      "attachments": {},
      "cell_type": "markdown",
      "metadata": {
        "id": "E4K2MU2gxXdo"
      },
      "source": [
        "Cargamos la LA generada desde el archivo 03a.la a un arreglo tipo numpy en la variable G1"
      ]
    },
    {
      "cell_type": "code",
      "execution_count": 4,
      "metadata": {
        "colab": {
          "base_uri": "https://localhost:8080/"
        },
        "id": "gPd2cKiPntSR",
        "outputId": "6e5751e4-aa23-4a0b-88fe-fa11cb8f8e25"
      },
      "outputs": [
        {
          "name": "stdout",
          "output_type": "stream",
          "text": [
            "[[1, 4], [0, 3, 5, 6], [4, 5, 6], [1, 7], [0, 2, 6, 7], [1, 2], [1, 2, 4], [3, 4]]\n"
          ]
        }
      ],
      "source": [
        "G1 = []\n",
        "with open(\"03a.la\") as f:\n",
        "  for line in f:\n",
        "    if line == \"-\\n\":\n",
        "      G1.append([])\n",
        "    else:\n",
        "      G1.append([int(x) for x in line.split()])\n",
        "\n",
        "print(G1)"
      ]
    },
    {
      "cell_type": "code",
      "execution_count": 5,
      "metadata": {
        "colab": {
          "base_uri": "https://localhost:8080/"
        },
        "id": "Ag3tn335nwlg",
        "outputId": "89af4342-c4aa-439f-978f-e4187bfddf60"
      },
      "outputs": [
        {
          "data": {
            "text/plain": [
              "[1, 5, 4, 7, 0, -1, 2, 4]"
            ]
          },
          "execution_count": 5,
          "metadata": {},
          "output_type": "execute_result"
        }
      ],
      "source": [
        "path = dfs(G1, 5)\n",
        "path"
      ]
    },
    {
      "attachments": {},
      "cell_type": "markdown",
      "metadata": {
        "id": "naZGZh2_xmm4"
      },
      "source": [
        "Creamos una función para dibujar el grafo utilizando la libreria gv, indicando si ser un grafo dirigido o no. Si le pasamos una lista con una ruta, debera colorear dicha ruta (path)."
      ]
    },
    {
      "cell_type": "code",
      "execution_count": 6,
      "metadata": {
        "id": "oHKfwqQVn1Is"
      },
      "outputs": [],
      "source": [
        "def drawG_al(G, directed=False, path=[]):\n",
        "  graph = gv.Digraph(\"di-anyname\") if directed else gv.Graph(\"anyname\")\n",
        "  n = len(G)\n",
        "  added = set()\n",
        "  for v, u in enumerate(path):\n",
        "    if u != -1:\n",
        "      graph.edge(str(u), str(v), dir=\"forward\", penwidth=\"2\", color=\"orange\")\n",
        "      added.add(f\"{u},{v}\")\n",
        "      added.add(f\"{v},{u}\")\n",
        "  for u in range(n):\n",
        "    for v in G[u]:\n",
        "      if not directed and not f\"{u},{v}\" in added:  \n",
        "        added.add(f\"{u},{v}\")\n",
        "        added.add(f\"{v},{u}\")\n",
        "        graph.edge(str(u), str(v))\n",
        "      elif directed:\n",
        "        graph.edge(str(u), str(v))\n",
        "  return graph"
      ]
    },
    {
      "attachments": {},
      "cell_type": "markdown",
      "metadata": {
        "id": "OKQENCzlxy6w"
      },
      "source": [
        "Visualizamos el grafo no dirigido del arreglo G1"
      ]
    },
    {
      "cell_type": "code",
      "execution_count": 7,
      "metadata": {
        "colab": {
          "base_uri": "https://localhost:8080/",
          "height": 464
        },
        "id": "kTWFHKnwn6OO",
        "outputId": "7fe51c1a-4526-450e-d4cc-f930ba5f0ec2"
      },
      "outputs": [
        {
          "data": {
            "image/svg+xml": [
              "<?xml version=\"1.0\" encoding=\"UTF-8\" standalone=\"no\"?>\n",
              "<!DOCTYPE svg PUBLIC \"-//W3C//DTD SVG 1.1//EN\"\n",
              " \"http://www.w3.org/Graphics/SVG/1.1/DTD/svg11.dtd\">\n",
              "<!-- Generated by graphviz version 8.0.2 (20230410.1723)\n",
              " -->\n",
              "<!-- Title: anyname Pages: 1 -->\n",
              "<svg width=\"263pt\" height=\"332pt\"\n",
              " viewBox=\"0.00 0.00 263.00 332.00\" xmlns=\"http://www.w3.org/2000/svg\" xmlns:xlink=\"http://www.w3.org/1999/xlink\">\n",
              "<g id=\"graph0\" class=\"graph\" transform=\"scale(1 1) rotate(0) translate(4 328)\">\n",
              "<title>anyname</title>\n",
              "<polygon fill=\"white\" stroke=\"none\" points=\"-4,4 -4,-328 259,-328 259,4 -4,4\"/>\n",
              "<!-- 1 -->\n",
              "<g id=\"node1\" class=\"node\">\n",
              "<title>1</title>\n",
              "<ellipse fill=\"none\" stroke=\"black\" cx=\"109\" cy=\"-306\" rx=\"27\" ry=\"18\"/>\n",
              "<text text-anchor=\"middle\" x=\"109\" y=\"-302.3\" font-family=\"Times New Roman,serif\" font-size=\"14.00\">1</text>\n",
              "</g>\n",
              "<!-- 0 -->\n",
              "<g id=\"node2\" class=\"node\">\n",
              "<title>0</title>\n",
              "<ellipse fill=\"none\" stroke=\"black\" cx=\"125\" cy=\"-234\" rx=\"27\" ry=\"18\"/>\n",
              "<text text-anchor=\"middle\" x=\"125\" y=\"-230.3\" font-family=\"Times New Roman,serif\" font-size=\"14.00\">0</text>\n",
              "</g>\n",
              "<!-- 1&#45;&#45;0 -->\n",
              "<g id=\"edge1\" class=\"edge\">\n",
              "<title>1&#45;&#45;0</title>\n",
              "<path fill=\"none\" stroke=\"orange\" stroke-width=\"2\" d=\"M112.96,-287.7C114.54,-280.75 116.42,-272.53 118.22,-264.68\"/>\n",
              "<polygon fill=\"orange\" stroke=\"orange\" stroke-width=\"2\" points=\"122.27,-264.63 121.09,-254.1 115.45,-263.07 122.27,-264.63\"/>\n",
              "</g>\n",
              "<!-- 3 -->\n",
              "<g id=\"node7\" class=\"node\">\n",
              "<title>3</title>\n",
              "<ellipse fill=\"none\" stroke=\"black\" cx=\"27\" cy=\"-18\" rx=\"27\" ry=\"18\"/>\n",
              "<text text-anchor=\"middle\" x=\"27\" y=\"-14.3\" font-family=\"Times New Roman,serif\" font-size=\"14.00\">3</text>\n",
              "</g>\n",
              "<!-- 1&#45;&#45;3 -->\n",
              "<g id=\"edge8\" class=\"edge\">\n",
              "<title>1&#45;&#45;3</title>\n",
              "<path fill=\"none\" stroke=\"black\" d=\"M93.1,-291.27C82.68,-281.38 69.62,-267.17 62,-252 25.1,-178.53 24.57,-76.79 26.04,-36.47\"/>\n",
              "</g>\n",
              "<!-- 6 -->\n",
              "<g id=\"node8\" class=\"node\">\n",
              "<title>6</title>\n",
              "<ellipse fill=\"none\" stroke=\"black\" cx=\"228\" cy=\"-18\" rx=\"27\" ry=\"18\"/>\n",
              "<text text-anchor=\"middle\" x=\"228\" y=\"-14.3\" font-family=\"Times New Roman,serif\" font-size=\"14.00\">6</text>\n",
              "</g>\n",
              "<!-- 1&#45;&#45;6 -->\n",
              "<g id=\"edge9\" class=\"edge\">\n",
              "<title>1&#45;&#45;6</title>\n",
              "<path fill=\"none\" stroke=\"black\" d=\"M125,-291.34C136.1,-281.27 150.68,-266.81 161,-252 201.46,-193.93 213.51,-177.06 229,-108 234.48,-83.57 232.62,-54.42 230.52,-36.31\"/>\n",
              "</g>\n",
              "<!-- 4 -->\n",
              "<g id=\"node4\" class=\"node\">\n",
              "<title>4</title>\n",
              "<ellipse fill=\"none\" stroke=\"black\" cx=\"141\" cy=\"-162\" rx=\"27\" ry=\"18\"/>\n",
              "<text text-anchor=\"middle\" x=\"141\" y=\"-158.3\" font-family=\"Times New Roman,serif\" font-size=\"14.00\">4</text>\n",
              "</g>\n",
              "<!-- 0&#45;&#45;4 -->\n",
              "<g id=\"edge5\" class=\"edge\">\n",
              "<title>0&#45;&#45;4</title>\n",
              "<path fill=\"none\" stroke=\"orange\" stroke-width=\"2\" d=\"M128.96,-215.7C130.54,-208.75 132.42,-200.53 134.22,-192.68\"/>\n",
              "<polygon fill=\"orange\" stroke=\"orange\" stroke-width=\"2\" points=\"138.27,-192.63 137.09,-182.1 131.45,-191.07 138.27,-192.63\"/>\n",
              "</g>\n",
              "<!-- 5 -->\n",
              "<g id=\"node3\" class=\"node\">\n",
              "<title>5</title>\n",
              "<ellipse fill=\"none\" stroke=\"black\" cx=\"137\" cy=\"-18\" rx=\"27\" ry=\"18\"/>\n",
              "<text text-anchor=\"middle\" x=\"137\" y=\"-14.3\" font-family=\"Times New Roman,serif\" font-size=\"14.00\">5</text>\n",
              "</g>\n",
              "<!-- 5&#45;&#45;1 -->\n",
              "<g id=\"edge2\" class=\"edge\">\n",
              "<title>5&#45;&#45;1</title>\n",
              "<path fill=\"none\" stroke=\"orange\" stroke-width=\"2\" d=\"M114.56,-28.57C97.51,-37.19 75.3,-51.64 65,-72 30.46,-140.31 69.31,-232.32 93.16,-277.56\"/>\n",
              "<polygon fill=\"orange\" stroke=\"orange\" stroke-width=\"2\" points=\"90.41,-279.66 98.27,-286.76 96.56,-276.31 90.41,-279.66\"/>\n",
              "</g>\n",
              "<!-- 2 -->\n",
              "<g id=\"node5\" class=\"node\">\n",
              "<title>2</title>\n",
              "<ellipse fill=\"none\" stroke=\"black\" cx=\"173\" cy=\"-90\" rx=\"27\" ry=\"18\"/>\n",
              "<text text-anchor=\"middle\" x=\"173\" y=\"-86.3\" font-family=\"Times New Roman,serif\" font-size=\"14.00\">2</text>\n",
              "</g>\n",
              "<!-- 4&#45;&#45;2 -->\n",
              "<g id=\"edge3\" class=\"edge\">\n",
              "<title>4&#45;&#45;2</title>\n",
              "<path fill=\"none\" stroke=\"orange\" stroke-width=\"2\" d=\"M148.58,-144.41C152.05,-136.83 156.25,-127.63 160.19,-119.02\"/>\n",
              "<polygon fill=\"orange\" stroke=\"orange\" stroke-width=\"2\" points=\"163.5,-120.02 164.47,-109.47 157.13,-117.11 163.5,-120.02\"/>\n",
              "</g>\n",
              "<!-- 7 -->\n",
              "<g id=\"node6\" class=\"node\">\n",
              "<title>7</title>\n",
              "<ellipse fill=\"none\" stroke=\"black\" cx=\"101\" cy=\"-90\" rx=\"27\" ry=\"18\"/>\n",
              "<text text-anchor=\"middle\" x=\"101\" y=\"-86.3\" font-family=\"Times New Roman,serif\" font-size=\"14.00\">7</text>\n",
              "</g>\n",
              "<!-- 4&#45;&#45;7 -->\n",
              "<g id=\"edge7\" class=\"edge\">\n",
              "<title>4&#45;&#45;7</title>\n",
              "<path fill=\"none\" stroke=\"orange\" stroke-width=\"2\" d=\"M131.72,-144.76C127.23,-136.9 121.71,-127.24 116.6,-118.29\"/>\n",
              "<polygon fill=\"orange\" stroke=\"orange\" stroke-width=\"2\" points=\"119.23,-116.09 111.23,-109.15 113.15,-119.57 119.23,-116.09\"/>\n",
              "</g>\n",
              "<!-- 4&#45;&#45;6 -->\n",
              "<g id=\"edge11\" class=\"edge\">\n",
              "<title>4&#45;&#45;6</title>\n",
              "<path fill=\"none\" stroke=\"black\" d=\"M161.77,-150.12C177.19,-140.95 197.48,-126.39 209,-108 222.84,-85.91 226.73,-55.32 227.75,-36.37\"/>\n",
              "</g>\n",
              "<!-- 2&#45;&#45;5 -->\n",
              "<g id=\"edge10\" class=\"edge\">\n",
              "<title>2&#45;&#45;5</title>\n",
              "<path fill=\"none\" stroke=\"black\" d=\"M164.65,-72.76C158.83,-61.46 151.11,-46.44 145.3,-35.15\"/>\n",
              "</g>\n",
              "<!-- 2&#45;&#45;6 -->\n",
              "<g id=\"edge6\" class=\"edge\">\n",
              "<title>2&#45;&#45;6</title>\n",
              "<path fill=\"none\" stroke=\"orange\" stroke-width=\"2\" d=\"M185.21,-73.46C191.9,-64.95 200.37,-54.17 208,-44.46\"/>\n",
              "<polygon fill=\"orange\" stroke=\"orange\" stroke-width=\"2\" points=\"211.4,-46.52 214.83,-36.49 205.9,-42.19 211.4,-46.52\"/>\n",
              "</g>\n",
              "<!-- 7&#45;&#45;3 -->\n",
              "<g id=\"edge4\" class=\"edge\">\n",
              "<title>7&#45;&#45;3</title>\n",
              "<path fill=\"none\" stroke=\"orange\" stroke-width=\"2\" d=\"M86.02,-74.83C76.16,-65.5 63.01,-53.07 51.63,-42.3\"/>\n",
              "<polygon fill=\"orange\" stroke=\"orange\" stroke-width=\"2\" points=\"53.88,-39.71 44.21,-35.38 49.07,-44.8 53.88,-39.71\"/>\n",
              "</g>\n",
              "</g>\n",
              "</svg>\n"
            ],
            "text/plain": [
              "<graphviz.graphs.Graph at 0x2872bd8b2d0>"
            ]
          },
          "execution_count": 7,
          "metadata": {},
          "output_type": "execute_result"
        }
      ],
      "source": [
        "drawG_al(G1, path=path)"
      ]
    }
  ],
  "metadata": {
    "colab": {
      "collapsed_sections": [],
      "name": "01_3_DFS_y_Lista_de_Adyacencia_LA.ipynb",
      "provenance": []
    },
    "kernelspec": {
      "display_name": "Python 3",
      "name": "python3"
    },
    "language_info": {
      "codemirror_mode": {
        "name": "ipython",
        "version": 3
      },
      "file_extension": ".py",
      "mimetype": "text/x-python",
      "name": "python",
      "nbconvert_exporter": "python",
      "pygments_lexer": "ipython3",
      "version": "3.11.3"
    }
  },
  "nbformat": 4,
  "nbformat_minor": 0
}
