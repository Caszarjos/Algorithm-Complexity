{
 "cells": [
  {
   "attachments": {},
   "cell_type": "markdown",
   "metadata": {},
   "source": [
    "## KRUSKAL"
   ]
  },
  {
   "cell_type": "code",
   "execution_count": 29,
   "metadata": {},
   "outputs": [],
   "source": [
    "import networkx as nx\n",
    "import matplotlib.pyplot as plt"
   ]
  },
  {
   "attachments": {},
   "cell_type": "markdown",
   "metadata": {},
   "source": [
    "Implementacion del grafo mostrado en la pregunta 6"
   ]
  },
  {
   "cell_type": "code",
   "execution_count": 30,
   "metadata": {},
   "outputs": [],
   "source": [
    "graph = [[5, 0, 10], [5, 4, 25], [0, 1, 28], [4, 6, 24], [4, 3, 22],\n",
    " [6, 1, 14], [6, 3, 18], [3, 2, 12], [1, 2, 16]]\n",
    "\n",
    "V = 7"
   ]
  },
  {
   "attachments": {},
   "cell_type": "markdown",
   "metadata": {},
   "source": [
    "Implementacion modificada del algoritmo visto en clase:"
   ]
  },
  {
   "cell_type": "code",
   "execution_count": 31,
   "metadata": {},
   "outputs": [
    {
     "name": "stdout",
     "output_type": "stream",
     "text": [
      "6 - 1: 10\n",
      "4 - 3: 12\n",
      "7 - 2: 14\n",
      "2 - 3: 16\n",
      "5 - 4: 22\n",
      "6 - 5: 25\n"
     ]
    }
   ],
   "source": [
    "def kruskal_algo(graph, V):\n",
    "    \n",
    "    result = [] #ARRAY OF EDGES OF THE RESULT SINTAX:[(u,v,w),(u,v,w)....]\n",
    "    \n",
    "    i, e = 0, 0 #INISIALIZE INDEXES\n",
    "    \n",
    "    graph = sorted(graph, key=lambda item: item[2]) #ORDER THE EDGES OF THE GRAPH BY THE WEIGHT ASCENDENTING\n",
    "    parent = [node for node in range(V)] #THE PARENT ITS THE NODE ITSELF\n",
    "    rank = [0] * V #ARRAY OF CEROS, REPRESENT HOW DEPH IS THE NODE\n",
    "\n",
    "    def find(parent, node): #ABSOLUTE PARENT OF THE NODE\n",
    "        if parent[node] != node: # IF THE PARENT NODE ITS NOT THE NODE ITSELF\n",
    "            parent[node] = find(parent, parent[node]) #FIND THE PARENT OF THE NODE (parent is the array, parent[node] is where point the node])\n",
    "        return parent[node] #RETURN THE ABSOLUTE PARENT OF THE NODE\n",
    "\n",
    "    def apply_union(parent, rank, x, y): #APLIES THE UNION BETWEEN TWO NODES HOW HAVE DIFERENTE ABSOLUTE PARENTS VALUES\n",
    "        x_root = find(parent, x) # x_root IS THE ABSOLUTE PARENT OF 'X'\n",
    "        y_root = find(parent, y) # y_root IS THE ABSOOLUTE PARENT OF 'Y'\n",
    "        if rank[x_root] < rank[y_root]: \n",
    "        # COMPARITION BETWEEN THE RANK OF THE ABSOLUTE PARENTS OF X AND Y\n",
    "        # THIS COMPARTION ITS NECESARY FOR SELECT THE NEW PARENT OF THE TWO NODES\n",
    "        # parent[x_root] = y_root IT MEANS THAT IF THE RANK OF THE ABSOLUTE PARENT OF Y IS \n",
    "        # HIGHER THAN THE RANK OF THE ABSOLUTE PARTEN OF Y, SO THE NEW PARENT OF THE ABSOLUTE \n",
    "        # PARTEN OF X (x_root) IS NOW y_root\n",
    "            parent[x_root] = y_root\n",
    "        elif rank[x_root] > rank[y_root]:\n",
    "        #ITS THE SAME COMPARITION BUT NOW IN THE CASE THAT THE RANK OF x_root IS HIGHER THAN y_root\n",
    "            parent[y_root] = x_root\n",
    "        else:\n",
    "        # IN CASE THAT THE RANKS ARE THE SAME\n",
    "            parent[y_root] = x_root\n",
    "            rank[x_root] += 1\n",
    "\n",
    "    while e < V - 1: # e: ITERATION INDEX | V - 1: #VERTEX - 1 (EDGES HAVE TO BE THE # OF VERTEX - 1, EJ: if v = 5 , e = 4 FOR KRUSKAL)\n",
    "        u, v, w = graph[i] #EXTRACT THE FIRST EDGES [(u,v,w)]\n",
    "        i += 1 # SUM + 1 IN THE I INDEX\n",
    "        x = find(parent, u) # FIND THE ABSOLUTE PARENT OF THE 'u' NODE OR 'FROM' NODE\n",
    "        y = find(parent, v) # FIND THE ABSOLUTE PARENT OF THE 'v' NODE OR 'TO' NODE\n",
    "        if x != y: # IF THE ABSOLUTE PARENTS OF 'x' AND 'y' ARE DIFERENT\n",
    "            e += 1 \n",
    "            # e + 1 BECAUSE WE FIND THAT THE TWO NODES HAVE DIFERENT ABSOLUTE PARENTS SO THIS MEAN THAT CAN'T EXIST A CYCLE IF THE EDGE\n",
    "            # OF THIS TWO NODES IS ADDED TO THE RESULT LIST OF EDGES (WICH IS THE SOLUTION OF KRUSKAL)\n",
    "            result.append([u, v, w]) # WE ADDED THE EDGE\n",
    "            apply_union(parent, rank, x, y) # ADD UNION TO CHANGE THE NEW PARENTS OF EACH NODE\n",
    "    for u, v, weight in result: #DISPLAY\n",
    "        print(\"%d - %d: %d\" % (u+1, v+1, weight))\n",
    "    return result\n",
    "edges = kruskal_algo(graph, V=V)"
   ]
  },
  {
   "cell_type": "code",
   "execution_count": 32,
   "metadata": {},
   "outputs": [],
   "source": [
    "#This function is used to be able to give the true values to the graph\n",
    "def increase(lista):\n",
    "    for i in range(len(lista)):\n",
    "        for j in range(len(lista[i])):\n",
    "            if j != 2:\n",
    "                lista[i][j] += 1\n",
    "    return lista\n",
    "edges = increase(edges)"
   ]
  },
  {
   "attachments": {},
   "cell_type": "markdown",
   "metadata": {},
   "source": [
    "## VISUALIZE WITH NETWORKX"
   ]
  },
  {
   "cell_type": "code",
   "execution_count": 33,
   "metadata": {},
   "outputs": [
    {
     "data": {
      "image/png": "[encoded data removed]",
      "text/plain": [
       "<Figure size 500x300 with 1 Axes>"
      ]
     },
     "metadata": {},
     "output_type": "display_data"
    }
   ],
   "source": [
    "def visualize_graph(G):\n",
    "    plt.figure(figsize=(5, 3))\n",
    "    pos = nx.planar_layout(G)\n",
    "    nx.draw(G, pos, with_labels=True, node_size=500)\n",
    "    nx.draw_networkx_edge_labels(G, pos, edge_labels=nx.get_edge_attributes(G, 'weight'))\n",
    "    plt.show()\n",
    "graph = nx.Graph()\n",
    "graph.add_weighted_edges_from(edges)\n",
    "visualize_graph(graph)"
   ]
  }
 ],
 "metadata": {
  "kernelspec": {
   "display_name": "Python 3",
   "language": "python",
   "name": "python3"
  },
  "language_info": {
   "codemirror_mode": {
    "name": "ipython",
    "version": 3
   },
   "file_extension": ".py",
   "mimetype": "text/x-python",
   "name": "python",
   "nbconvert_exporter": "python",
   "pygments_lexer": "ipython3",
   "version": "3.11.3"
  },
  "orig_nbformat": 4
 },
 "nbformat": 4,
 "nbformat_minor": 2
}
